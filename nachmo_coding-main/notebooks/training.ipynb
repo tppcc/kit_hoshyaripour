{
 "cells": [
  {
   "cell_type": "code",
   "execution_count": null,
   "metadata": {
    "collapsed": true,
    "jupyter": {
     "outputs_hidden": true
    }
   },
   "outputs": [],
   "source": [
    "import torch\n",
    "from dataset import RolloutTensorDataset\n",
    "from dataloader import prepare_dataloaders\n",
    "from models import MLP, ChemicalTimeStepper, RolloutModel\n",
    "from train import do_training\n",
    "from config import default_config"
   ]
  },
  {
   "cell_type": "code",
   "execution_count": null,
   "metadata": {
    "collapsed": false
   },
   "outputs": [],
   "source": [
    "# options\n",
    "dtype = torch.float32\n",
    "loss_config, stepper_config, net_config, data_config, loader_config, train_config = default_config()"
   ]
  },
  {
   "cell_type": "code",
   "execution_count": null,
   "metadata": {
    "collapsed": false
   },
   "outputs": [],
   "source": [
    "# input and output files\n",
    "data_path = \"../../../data/concentrations/\"              # path to the concentration data for training and testing\n",
    "output_file = './models/NN_test.pt'"
   ]
  },
  {
   "cell_type": "code",
   "execution_count": null,
   "metadata": {
    "collapsed": false
   },
   "outputs": [],
   "source": [
    "# initialize objects\n",
    "in_features = len(data_config['species'])  # concentrations\n",
    "out_features = stepper_config['stoichiometry_matrix'].shape[0] if stepper_config['learn_rates'] else in_features\n",
    "\n",
    "dataset = RolloutTensorDataset(data_path, dtype=dtype, **data_config)\n",
    "train_loader, test_loader = prepare_dataloaders(dataset, **loader_config)\n",
    "net = MLP(in_features, out_features, dtype=dtype, **net_config)\n",
    "stepper = ChemicalTimeStepper(net, dtype=dtype, **stepper_config)\n",
    "model = RolloutModel(stepper, data_config['trajectory_length'])\n",
    "\n",
    "train_loss, mean_test_loss = do_training(model, train_loader, test_loader, **train_config, **loss_config)\n",
    "\n",
    "if output_file is not None:\n",
    "    torch.save(net.state_dict(), output_file)\n"
   ]
  }
 ],
 "metadata": {
  "kernelspec": {
   "display_name": "Python 3 (ipykernel)",
   "language": "python",
   "name": "python3"
  },
  "language_info": {
   "codemirror_mode": {
    "name": "ipython",
    "version": 3
   },
   "file_extension": ".py",
   "mimetype": "text/x-python",
   "name": "python",
   "nbconvert_exporter": "python",
   "pygments_lexer": "ipython3",
   "version": "3.9.18"
  }
 },
 "nbformat": 4,
 "nbformat_minor": 4
}
